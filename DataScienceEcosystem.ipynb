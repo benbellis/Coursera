{
 "cells": [
  {
   "cell_type": "markdown",
   "id": "fed72eb8-0753-4bd1-9991-ea7108164f22",
   "metadata": {},
   "source": [
    "# Data Science Tools and Ecosystem"
   ]
  },
  {
   "cell_type": "markdown",
   "id": "e4b015b0-2400-4faf-b08e-9324a53e329f",
   "metadata": {},
   "source": [
    "In this notebook, Data Science Tools and Ecosystem are summarized."
   ]
  },
  {
   "cell_type": "markdown",
   "id": "c5383b37-5c9e-48bd-914d-f56d9a111ee4",
   "metadata": {},
   "source": [
    "Some of the popular languages that Data Scientists use are:\n",
    "1. Python\n",
    "2. R\n",
    "3. Julia"
   ]
  },
  {
   "cell_type": "markdown",
   "id": "a7fb6e5f-5c46-4702-8e9a-d6a2d56ae091",
   "metadata": {},
   "source": [
    "Some of the commonly used libraries used by Data Scientists include:\n",
    "1. numpy\n",
    "2. matplotlib\n",
    "3. pandas"
   ]
  },
  {
   "cell_type": "markdown",
   "id": "6ec8eba9-a005-4dca-b8a8-c0f7d06b7df2",
   "metadata": {},
   "source": [
    "|Data Science Tools|\n",
    "------\n",
    "|VS Code|\n",
    "|JupyterLab|\n",
    "|Google Colaboratory|\n",
    "\n"
   ]
  },
  {
   "cell_type": "markdown",
   "id": "c1861be5-09f3-4488-a884-33e7829da416",
   "metadata": {},
   "source": [
    "### Below are a few examples of evaluating arithmetic expressions in Python"
   ]
  },
  {
   "cell_type": "code",
   "execution_count": 1,
   "id": "8d9385cd-9e91-4041-aac8-471653719eac",
   "metadata": {
    "tags": []
   },
   "outputs": [
    {
     "data": {
      "text/plain": [
       "17"
      ]
     },
     "execution_count": 1,
     "metadata": {},
     "output_type": "execute_result"
    }
   ],
   "source": [
    "#This a simple arithmetic expression to mutiply then add integers\n",
    "(3*4)+5"
   ]
  },
  {
   "cell_type": "code",
   "execution_count": 2,
   "id": "e1595bd9-94ef-4d0c-b659-c4f01375522e",
   "metadata": {
    "tags": []
   },
   "outputs": [
    {
     "data": {
      "text/plain": [
       "3.3333333333333335"
      ]
     },
     "execution_count": 2,
     "metadata": {},
     "output_type": "execute_result"
    }
   ],
   "source": [
    "#This will convert 200 minutes to hours by diving by 60\n",
    "200/60"
   ]
  },
  {
   "cell_type": "markdown",
   "id": "551587b3-a8bf-404a-a97b-e6743e85eefc",
   "metadata": {
    "tags": []
   },
   "source": [
    "**Objectives:**\n",
    "- Learn how to use markdown in Jupyter Notebooks\n",
    "- Introduce useful languages for data science\n",
    "- Learn about some data science tools"
   ]
  },
  {
   "cell_type": "markdown",
   "id": "fd41f511-2c72-4fb4-83ef-9b0506d0852f",
   "metadata": {},
   "source": [
    "## Author\n",
    "Ben Bellis"
   ]
  },
  {
   "cell_type": "code",
   "execution_count": null,
   "id": "bfcbc3f4-7855-4b27-bf57-a3d7de135932",
   "metadata": {},
   "outputs": [],
   "source": []
  }
 ],
 "metadata": {
  "kernelspec": {
   "display_name": "Python",
   "language": "python",
   "name": "conda-env-python-py"
  },
  "language_info": {
   "codemirror_mode": {
    "name": "ipython",
    "version": 3
   },
   "file_extension": ".py",
   "mimetype": "text/x-python",
   "name": "python",
   "nbconvert_exporter": "python",
   "pygments_lexer": "ipython3",
   "version": "3.7.12"
  }
 },
 "nbformat": 4,
 "nbformat_minor": 5
}
